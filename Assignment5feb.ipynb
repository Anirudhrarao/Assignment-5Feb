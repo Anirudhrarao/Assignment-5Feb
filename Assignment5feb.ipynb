{
 "cells": [
  {
   "cell_type": "markdown",
   "id": "5fb643b7",
   "metadata": {},
   "source": [
    "### Solution (1)\n",
    "#### CLASS\n",
    "* A class is user-defined blueprint or prototype from which objects can be created.\n",
    "* a class provide dry concept that is do not repeat yourself.\n",
    "* also hold own data member and method.\n",
    "\n",
    "#### OBJECT\n",
    "* An object is instance of class use for access data member and method."
   ]
  },
  {
   "cell_type": "code",
   "execution_count": 1,
   "id": "263c2263",
   "metadata": {},
   "outputs": [],
   "source": [
    "class Test:\n",
    "    def greet(self):\n",
    "        print('Welcome folks')"
   ]
  },
  {
   "cell_type": "code",
   "execution_count": 2,
   "id": "3684ce5e",
   "metadata": {},
   "outputs": [],
   "source": [
    "obj = Test()"
   ]
  },
  {
   "cell_type": "code",
   "execution_count": 3,
   "id": "54963c1e",
   "metadata": {},
   "outputs": [
    {
     "name": "stdout",
     "output_type": "stream",
     "text": [
      "Welcome folks\n"
     ]
    }
   ],
   "source": [
    "obj.greet()"
   ]
  },
  {
   "cell_type": "markdown",
   "id": "909caa93",
   "metadata": {},
   "source": [
    "### Solution (2)\n",
    "#### There are four pillars of oops:\n",
    "1. Inheritance\n",
    "2. Encapsulations\n",
    "3. Abstractions\n",
    "4. Polymorphisms"
   ]
  },
  {
   "cell_type": "markdown",
   "id": "d11e4b12",
   "metadata": {},
   "source": [
    "### Solution (3)\n",
    "* An '__init__' is a constructors every time it invokes when the object is created for class or class initialized.\n",
    "* helps you to pass a data to class variable"
   ]
  },
  {
   "cell_type": "markdown",
   "id": "1856f8d4",
   "metadata": {},
   "source": [
    "### Solution (4)\n",
    "* self is an instance or we can say that reference of class that helps you to access your class attributes and method as well."
   ]
  },
  {
   "cell_type": "markdown",
   "id": "63d81a6e",
   "metadata": {},
   "source": [
    "### Solution (5)\n",
    "* Inheritance is a way of reuse a code\n",
    "* Inheritance is process of obtaining properties and characterstics of another class."
   ]
  },
  {
   "cell_type": "code",
   "execution_count": 1,
   "id": "b579fbb7",
   "metadata": {},
   "outputs": [],
   "source": [
    "# Single Inheritance\n",
    "class A:\n",
    "    pass\n",
    "class B(A):\n",
    "    pass"
   ]
  },
  {
   "cell_type": "code",
   "execution_count": 2,
   "id": "77dc14e1",
   "metadata": {},
   "outputs": [],
   "source": [
    "# Multiple Inheritance\n",
    "class A:\n",
    "    pass\n",
    "class B:\n",
    "    pass\n",
    "class C(A,B):\n",
    "    pass"
   ]
  },
  {
   "cell_type": "code",
   "execution_count": 3,
   "id": "4f8e95a1",
   "metadata": {},
   "outputs": [],
   "source": [
    "# Multilevel Inheritance\n",
    "class A:\n",
    "    pass\n",
    "class B(A):\n",
    "    pass\n",
    "class C(B):\n",
    "    pass\n",
    "    "
   ]
  },
  {
   "cell_type": "code",
   "execution_count": 4,
   "id": "6d4cb64f",
   "metadata": {},
   "outputs": [],
   "source": [
    "# Hierarchical Inheritance\n",
    "class Parent:\n",
    "    pass\n",
    "class Child1(Parent):\n",
    "    pass\n",
    "class Child2(Parent):\n",
    "    pass"
   ]
  },
  {
   "cell_type": "code",
   "execution_count": null,
   "id": "287866ac",
   "metadata": {},
   "outputs": [],
   "source": []
  }
 ],
 "metadata": {
  "kernelspec": {
   "display_name": "Python 3 (ipykernel)",
   "language": "python",
   "name": "python3"
  },
  "language_info": {
   "codemirror_mode": {
    "name": "ipython",
    "version": 3
   },
   "file_extension": ".py",
   "mimetype": "text/x-python",
   "name": "python",
   "nbconvert_exporter": "python",
   "pygments_lexer": "ipython3",
   "version": "3.11.1"
  }
 },
 "nbformat": 4,
 "nbformat_minor": 5
}
